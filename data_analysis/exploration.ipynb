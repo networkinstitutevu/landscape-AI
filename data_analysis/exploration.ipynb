{
 "cells": [
  {
   "cell_type": "markdown",
   "metadata": {},
   "source": [
    "# Exploration of the data"
   ]
  },
  {
   "cell_type": "code",
   "execution_count": 18,
   "metadata": {},
   "outputs": [
    {
     "data": {
      "text/plain": [
       "Index(['UUID', 'Title', 'Subtitle', 'Last name, First name', 'Abstract',\n",
       "       'Year', 'DOIs (Digital Object Identifiers)', 'APA format',\n",
       "       'Number of Electronic versions', 'Electronic version link', 'Name',\n",
       "       'UUID_1', 'Organisational unit name', 'UUID_2', 'Type',\n",
       "       'generative_type', 'is_generative'],\n",
       "      dtype='object')"
      ]
     },
     "execution_count": 18,
     "metadata": {},
     "output_type": "execute_result"
    }
   ],
   "source": [
    "import pandas as pd\n",
    "import matplotlib.pyplot as plt\n",
    "import seaborn as sns\n",
    "\n",
    "\n",
    "df_gemma = pd.read_csv(\"../data/classified_data_gemma.csv\")\n",
    "df_llama = pd.read_csv(\"../data/classified_data_llama31_8b.csv\")\n",
    "\n",
    "df_gemma['llm'] = 'gemma'\n",
    "df_llama['llm'] = 'llama'\n",
    "\n",
    "df_gemma.columns"
   ]
  },
  {
   "cell_type": "code",
   "execution_count": 17,
   "metadata": {},
   "outputs": [
    {
     "name": "stdout",
     "output_type": "stream",
     "text": [
      "6563 out of 8362 gemma papers are generative\n",
      "generative_type\n",
      "none                6417\n",
      "LLM                   90\n",
      "unclear               47\n",
      "image generation       6\n",
      "video generation       3\n",
      "Name: count, dtype: int64\n",
      "\n",
      "\n",
      "6564 out of 8362 llama papers are generative\n"
     ]
    },
    {
     "data": {
      "text/plain": [
       "generative_type\n",
       "none                6490\n",
       "LLM                   47\n",
       "image generation      19\n",
       "unclear                5\n",
       "generative AI          2\n",
       "video generation       1\n",
       "Name: count, dtype: int64"
      ]
     },
     "execution_count": 17,
     "metadata": {},
     "output_type": "execute_result"
    }
   ],
   "source": [
    "print(len(df_gemma[df_gemma['is_generative'].notna()]), \"out of\", len(df_gemma), \"gemma papers are generative\")\n",
    "print(df_gemma['generative_type'].value_counts())\n",
    "print()\n",
    "print()\n",
    "\n",
    "print(len(df_llama[df_llama['is_generative'].notna()]), \"out of\", len(df_llama), \"llama papers are generative\")\n",
    "df_llama['generative_type'].value_counts()"
   ]
  },
  {
   "cell_type": "code",
   "execution_count": 20,
   "metadata": {},
   "outputs": [
    {
     "data": {
      "text/plain": [
       "Organisational unit name\n",
       "Artificial intelligence                                                                         25\n",
       "Language                                                                                        13\n",
       "Internet Law                                                                                     6\n",
       "Computer Systems                                                                                 5\n",
       "Artificial intelligence | Language                                                               5\n",
       "Communication Science                                                                            4\n",
       "Knowledge, Information and Innovation                                                            3\n",
       "Computer Science                                                                                 3\n",
       "Bioinformatics                                                                                   3\n",
       "Software and Sustainability (S2)                                                                 3\n",
       "Political Science and Public Administration                                                      2\n",
       "Mathematics                                                                                      2\n",
       "Marketing                                                                                        2\n",
       "Artificial intelligence | Business Web and Media                                                 2\n",
       "Water and Climate Risk                                                                           2\n",
       "Artificial intelligence | Computer Science                                                       2\n",
       "Beliefs and Practices                                                                            2\n",
       "Spatial Economics                                                                                2\n",
       "(Astro)-Particles Physics | Physics and Astronomy                                                1\n",
       "Art and Culture, History, Antiquity                                                              1\n",
       "Communication Science | Language                                                                 1\n",
       "Moral and Political Philosophy                                                                   1\n",
       "Clinical, Neuro- & Developmental Psychology | Clinical Psychology                                1\n",
       "Communication | Communication Science                                                            1\n",
       "Health Sciences                                                                                  1\n",
       "Prevention and Rehabilitation                                                                    1\n",
       "Business Web and Media | Language                                                                1\n",
       "Operations Analytics                                                                             1\n",
       "Clinical Psychology                                                                              1\n",
       "Management and Organisation | Organizational Psychology | Social & Organizational Psychology     1\n",
       "Bioinformatics | Computer Science                                                                1\n",
       "Earth Sciences                                                                                   1\n",
       "Cognitive Psychology | Educational Sciences                                                      1\n",
       "Environmental Geography                                                                          1\n",
       "Finance                                                                                          1\n",
       "Artificial intelligence | Clinical Psychology | Computer Science                                 1\n",
       "Social Psychology                                                                                1\n",
       "Communication | Communication Science | Language, Literature and Communication                   1\n",
       "Computer Science | Computer Systems                                                              1\n",
       "Environmental Economics                                                                          1\n",
       "Communication                                                                                    1\n",
       "Maxillofacial Surgery (AMC + VUmc) | Periodontology | Preventive Dentistry                       1\n",
       "Integrative Neurophysiology                                                                      1\n",
       "Preventive Dentistry                                                                             1\n",
       "Maxillofacial Surgery (AMC)                                                                      1\n",
       "Epistemology and Metaphysics                                                                     1\n",
       "Management and Organisation                                                                      1\n",
       "Organizational Psychology                                                                        1\n",
       "Name: count, dtype: int64"
      ]
     },
     "execution_count": 20,
     "metadata": {},
     "output_type": "execute_result"
    }
   ],
   "source": [
    "df_gemma[df_gemma['is_generative'] == True]['Organisational unit name'].value_counts()"
   ]
  }
 ],
 "metadata": {
  "kernelspec": {
   "display_name": "Python 3",
   "language": "python",
   "name": "python3"
  },
  "language_info": {
   "codemirror_mode": {
    "name": "ipython",
    "version": 3
   },
   "file_extension": ".py",
   "mimetype": "text/x-python",
   "name": "python",
   "nbconvert_exporter": "python",
   "pygments_lexer": "ipython3",
   "version": "3.11.9"
  }
 },
 "nbformat": 4,
 "nbformat_minor": 2
}
